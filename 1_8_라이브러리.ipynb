{
  "nbformat": 4,
  "nbformat_minor": 0,
  "metadata": {
    "colab": {
      "name": "1-8 라이브러리.ipynb",
      "private_outputs": true,
      "provenance": [],
      "collapsed_sections": [],
      "toc_visible": true,
      "include_colab_link": true
    },
    "kernelspec": {
      "name": "python3",
      "display_name": "Python 3"
    }
  },
  "cells": [
    {
      "cell_type": "markdown",
      "metadata": {
        "id": "view-in-github",
        "colab_type": "text"
      },
      "source": [
        "<a href=\"https://colab.research.google.com/github/youngjae8061/AI_Study/blob/main/1_8_%EB%9D%BC%EC%9D%B4%EB%B8%8C%EB%9F%AC%EB%A6%AC.ipynb\" target=\"_parent\"><img src=\"https://colab.research.google.com/assets/colab-badge.svg\" alt=\"Open In Colab\"/></a>"
      ]
    },
    {
      "cell_type": "markdown",
      "metadata": {
        "id": "1HbIDv4yS-FM"
      },
      "source": [
        "## Python 머신러닝에 필요한 라이브러리\n",
        "\n",
        "- 수학계산, 넘파이(Numpy)\n",
        "\n",
        "- 데이터 처리, 판다스(Pandas)\n",
        "\n",
        "- 그림 그리기 툴, 맷플롭(Matplotlib)"
      ]
    },
    {
      "cell_type": "markdown",
      "metadata": {
        "id": "Oi_UqRfhYe4F"
      },
      "source": [
        "---------------------------------------------------------\n",
        "\n",
        "### 넘파이 Numpy\n",
        "\n",
        "- 수학계산\n",
        "  - 복잡한 함수\n",
        "  - 연산 알고리즘\n",
        "  - 난수생성"
      ]
    },
    {
      "cell_type": "code",
      "metadata": {
        "id": "Bf9KXB-AZNpT"
      },
      "source": [
        "# numpy를 np라고 부르겠다.\n",
        "import numpy as np\n",
        "\n",
        "# -1부터 1까지 100개의 등간격으로 x를 정의\n",
        "x = np.linspace(-1,1,100)\n",
        "# 위에서 정의한 x를 sin함수로 바꿈\n",
        "y = np.sin(x)\n",
        "print(y)"
      ],
      "execution_count": null,
      "outputs": []
    },
    {
      "cell_type": "code",
      "metadata": {
        "id": "nNlmIV3usOIQ"
      },
      "source": [
        "# random하게 choice한다는 의미로 x중에서 3개를 고르고 replace=False << 중복되지않게 골라라\r\n",
        "np.random.choice(x,3,replace=False)"
      ],
      "execution_count": null,
      "outputs": []
    },
    {
      "cell_type": "code",
      "metadata": {
        "id": "dMe8HX50sd6G"
      },
      "source": [
        "# 행이3개 열이 5개인 사이즈의 원소가 정규분포표를 따르는 것\n",
        "a = np.random.normal(size=(3,5))\n",
        "# a의 형태확인 a.shape\n",
        "print(a.shape)\n",
        "print(a)"
      ],
      "execution_count": null,
      "outputs": []
    },
    {
      "cell_type": "markdown",
      "metadata": {
        "id": "ZY2ASblJspiL"
      },
      "source": [
        "---------------------------------------------------------\n",
        "\n",
        "### 판다스 pandas\n",
        "\n",
        "- 데이터 처리"
      ]
    },
    {
      "cell_type": "code",
      "metadata": {
        "id": "nxuDECQHIKHf"
      },
      "source": [
        "# 현재 colab이 동작하고있는 위치를 확인해보고\n",
        "# 해당 위치에 재료 파일을 업로드 하겠습니다.\n",
        "import os\n",
        "print(os.getcwd())"
      ],
      "execution_count": null,
      "outputs": []
    },
    {
      "cell_type": "code",
      "metadata": {
        "id": "xkg9_xNHtRxd"
      },
      "source": [
        "# 판다스로 데이터를 조작해봅시다. \n",
        "# 데이터의 속성을 모를때는 개인적으로 판다스 라이브러리가 넘파이보다 조금 더 편합니다.\n",
        "import pandas as pd\n",
        "\n",
        "# 현재화면 왼쪽라인 폴더에 위치한 파일 불러오기\n",
        "#df = pd.read_csv(uploaded['HomeC.csv'].decode('utf-8'))\n",
        "df = pd.read_csv('./sample_data/california_housing_train.csv')"
      ],
      "execution_count": null,
      "outputs": []
    },
    {
      "cell_type": "code",
      "metadata": {
        "id": "KEKeOy3lBaSQ"
      },
      "source": [
        "df.head()"
      ],
      "execution_count": null,
      "outputs": []
    },
    {
      "cell_type": "code",
      "metadata": {
        "id": "MJ7Wx6JrBb1v"
      },
      "source": [
        "df.tail(3)"
      ],
      "execution_count": null,
      "outputs": []
    },
    {
      "cell_type": "code",
      "metadata": {
        "id": "0A_fdcxdCR9x"
      },
      "source": [
        "print('데이터 개수', df.shape[0])\n",
        "print('데이터 속성 개수',df.shape[1])\n",
        "# 17000행 9열\n",
        "print(df.shape)"
      ],
      "execution_count": null,
      "outputs": []
    },
    {
      "cell_type": "code",
      "metadata": {
        "id": "QudCEIC-BdH3"
      },
      "source": [
        "df.index"
      ],
      "execution_count": null,
      "outputs": []
    },
    {
      "cell_type": "code",
      "metadata": {
        "id": "655g4-8lBgEn"
      },
      "source": [
        "# 해당 데이터의 속성 이름 출력\r\n",
        "df.columns"
      ],
      "execution_count": null,
      "outputs": []
    },
    {
      "cell_type": "code",
      "metadata": {
        "id": "ZDRtnlnYBhfo"
      },
      "source": [
        "numpy_data = df.to_numpy()"
      ],
      "execution_count": null,
      "outputs": []
    },
    {
      "cell_type": "code",
      "metadata": {
        "id": "MtUe-GTpBkes"
      },
      "source": [
        "print('인구 평균',df['population'].mean())\n",
        "print('소득 최소값',df['median_income'].min())\n",
        "print('소득 최대값',df['median_income'].max())"
      ],
      "execution_count": null,
      "outputs": []
    },
    {
      "cell_type": "markdown",
      "metadata": {
        "id": "ELhhk-ikXhpl"
      },
      "source": [
        "---------------------------------------------------------\n",
        "\n",
        "### 맷플롯 Matplotlib\n",
        "\n",
        "- 그래프그리기\n",
        "  - 선형그래프\n",
        "  - 통계그래프\n",
        "  - 이미지그림"
      ]
    },
    {
      "cell_type": "code",
      "metadata": {
        "id": "lREtoTFIX2ov"
      },
      "source": [
        "# matplotlib중 pyplot만 쓸거다.\n",
        "import matplotlib.pyplot as plt\n",
        "%matplotlib inline \n",
        "# % <-- Jupyter notebook 계열에서만 쓰이는 코드입니다. \n",
        "# 해당 셀에서 바로 그림을 그려라\n",
        "\n",
        "# 넘파이에서 불러왔던 x, y를 재사용\n",
        "# plot 그림을 그려라  r 빨간색 -- 점선으로 붙여라\n",
        "plt.plot(x,y,'r--')\n",
        "# 도화지에 격자를 새겨라\n",
        "plt.grid()"
      ],
      "execution_count": null,
      "outputs": []
    },
    {
      "cell_type": "code",
      "metadata": {
        "id": "EOpRhJ7HXTn6"
      },
      "source": [
        "# -5부터 5까지 200개의 등간격으로 x를 정의\r\n",
        "x = np.linspace(-5,5,200)\r\n",
        "# 위에서 정의한 x를 sin함수로 바꿈\r\n",
        "y = np.sin(x)"
      ],
      "execution_count": null,
      "outputs": []
    },
    {
      "cell_type": "code",
      "metadata": {
        "id": "Pxgwi1kNXaHm"
      },
      "source": [
        "# b 파란색 - 직선으로 plot 그려라\r\n",
        "plt.plot(x, y, 'b-')"
      ],
      "execution_count": null,
      "outputs": []
    },
    {
      "cell_type": "code",
      "metadata": {
        "id": "PCd_ohN2X5Dg"
      },
      "source": [
        "# 불러온 데이터중 중위소득을 막대그래프(히스토그램)로 도식\n",
        "# 20개의 막대 그래프\n",
        "plt.hist(df['median_income'],bins=20)\n",
        "plt.grid()"
      ],
      "execution_count": null,
      "outputs": []
    },
    {
      "cell_type": "code",
      "metadata": {
        "id": "zfsRYXNkWsLN"
      },
      "source": [
        ""
      ],
      "execution_count": null,
      "outputs": []
    }
  ]
}