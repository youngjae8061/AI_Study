{
  "nbformat": 4,
  "nbformat_minor": 0,
  "metadata": {
    "colab": {
      "name": "Ch0_1_연산자.ipynb",
      "provenance": [],
      "authorship_tag": "ABX9TyPGg/zNMP5zNg/7XbHnfDWk",
      "include_colab_link": true
    },
    "kernelspec": {
      "name": "python3",
      "display_name": "Python 3"
    }
  },
  "cells": [
    {
      "cell_type": "markdown",
      "metadata": {
        "id": "view-in-github",
        "colab_type": "text"
      },
      "source": [
        "<a href=\"https://colab.research.google.com/github/youngjae8061/AI_Study/blob/main/Ch0_1_%EC%97%B0%EC%82%B0%EC%9E%90.ipynb\" target=\"_parent\"><img src=\"https://colab.research.google.com/assets/colab-badge.svg\" alt=\"Open In Colab\"/></a>"
      ]
    },
    {
      "cell_type": "markdown",
      "metadata": {
        "id": "M5ogg6LFtJwR"
      },
      "source": [
        "##연산자\r\n",
        "\r\n",
        "- 파이썬 계산 사칙연산"
      ]
    },
    {
      "cell_type": "markdown",
      "metadata": {
        "id": "OiM1QsGwtTNY"
      },
      "source": [
        "- 사칙 연산자"
      ]
    },
    {
      "cell_type": "code",
      "metadata": {
        "id": "BKb1Gf-wtC98"
      },
      "source": [
        "a = 1395 - 875"
      ],
      "execution_count": null,
      "outputs": []
    },
    {
      "cell_type": "code",
      "metadata": {
        "colab": {
          "base_uri": "https://localhost:8080/"
        },
        "id": "TkFcpYyftjI6",
        "outputId": "9898e813-084e-49e5-c83f-6ff48cbd21ae"
      },
      "source": [
        "print(a)"
      ],
      "execution_count": null,
      "outputs": [
        {
          "output_type": "stream",
          "text": [
            "520\n"
          ],
          "name": "stdout"
        }
      ]
    },
    {
      "cell_type": "code",
      "metadata": {
        "id": "GR5ayLwKtl9K"
      },
      "source": [
        "a0 = 2*8 # 16\r\n",
        "a1 = 4/5 # 0.8"
      ],
      "execution_count": null,
      "outputs": []
    },
    {
      "cell_type": "code",
      "metadata": {
        "colab": {
          "base_uri": "https://localhost:8080/"
        },
        "id": "1GrbtTJftyBF",
        "outputId": "b3611b80-becc-40e0-8ced-536ee57279db"
      },
      "source": [
        "print(a0)\r\n",
        "print(a1)"
      ],
      "execution_count": null,
      "outputs": [
        {
          "output_type": "stream",
          "text": [
            "16\n",
            "0.8\n"
          ],
          "name": "stdout"
        }
      ]
    },
    {
      "cell_type": "code",
      "metadata": {
        "colab": {
          "base_uri": "https://localhost:8080/"
        },
        "id": "p6LwwfACt8o5",
        "outputId": "00df9fe3-5d2e-497d-d1b5-2084b1230499"
      },
      "source": [
        "a_q = 7 // 3  # 몫\r\n",
        "a_r = 7 % 2   # 나머지\r\n",
        "print(a_q)\r\n",
        "print(a_r)"
      ],
      "execution_count": null,
      "outputs": [
        {
          "output_type": "stream",
          "text": [
            "2\n",
            "1\n"
          ],
          "name": "stdout"
        }
      ]
    },
    {
      "cell_type": "code",
      "metadata": {
        "colab": {
          "base_uri": "https://localhost:8080/"
        },
        "id": "esFluneVuQby",
        "outputId": "11476f12-5d99-4f91-c046-b71425c83feb"
      },
      "source": [
        "a = 2**3  # 제곱\r\n",
        "print(a)"
      ],
      "execution_count": null,
      "outputs": [
        {
          "output_type": "stream",
          "text": [
            "8\n"
          ],
          "name": "stdout"
        }
      ]
    },
    {
      "cell_type": "markdown",
      "metadata": {
        "id": "V5KTZxmru55y"
      },
      "source": [
        "- 할당 연산자 += -= *= /= //= %= **="
      ]
    },
    {
      "cell_type": "code",
      "metadata": {
        "colab": {
          "base_uri": "https://localhost:8080/"
        },
        "id": "THj1Ia8zub8b",
        "outputId": "08476944-8b3f-4fd1-d3c7-c383b8f2ec02"
      },
      "source": [
        "a = 5\r\n",
        "print(a)"
      ],
      "execution_count": null,
      "outputs": [
        {
          "output_type": "stream",
          "text": [
            "5\n"
          ],
          "name": "stdout"
        }
      ]
    },
    {
      "cell_type": "code",
      "metadata": {
        "id": "wy1ZFO-Hu_Dx"
      },
      "source": [
        "a = a+1 #  ==  a += 1"
      ],
      "execution_count": null,
      "outputs": []
    },
    {
      "cell_type": "markdown",
      "metadata": {
        "id": "gJMYz852vWdD"
      },
      "source": [
        "- 비교 연산자 --> 참, 거짓 판별"
      ]
    },
    {
      "cell_type": "code",
      "metadata": {
        "colab": {
          "base_uri": "https://localhost:8080/"
        },
        "id": "m8BOnNcbvON_",
        "outputId": "3e528110-66cf-45e2-8411-4c4adf8e6cb6"
      },
      "source": [
        "1 == 1"
      ],
      "execution_count": null,
      "outputs": [
        {
          "output_type": "execute_result",
          "data": {
            "text/plain": [
              "True"
            ]
          },
          "metadata": {
            "tags": []
          },
          "execution_count": 13
        }
      ]
    },
    {
      "cell_type": "code",
      "metadata": {
        "colab": {
          "base_uri": "https://localhost:8080/"
        },
        "id": "p5X0wnB-vcT9",
        "outputId": "26f573c2-54d1-4536-e61b-0f9dde4014c6"
      },
      "source": [
        "1 != 1"
      ],
      "execution_count": null,
      "outputs": [
        {
          "output_type": "execute_result",
          "data": {
            "text/plain": [
              "False"
            ]
          },
          "metadata": {
            "tags": []
          },
          "execution_count": 14
        }
      ]
    },
    {
      "cell_type": "code",
      "metadata": {
        "colab": {
          "base_uri": "https://localhost:8080/"
        },
        "id": "tXN6SKWDvdWH",
        "outputId": "59952c36-26e7-4280-bb32-669083e06cf0"
      },
      "source": [
        "# sqrt(루트) \r\n",
        "# x**2 == 2 --> x? (x>0)\r\n",
        "x = 2\r\n",
        "x_sqrt = x**0.5\r\n",
        "print(\"%0.7f\" %x_sqrt)\r\n"
      ],
      "execution_count": null,
      "outputs": [
        {
          "output_type": "stream",
          "text": [
            "1.4142136\n"
          ],
          "name": "stdout"
        }
      ]
    }
  ]
}