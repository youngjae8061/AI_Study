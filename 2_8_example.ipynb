{
  "nbformat": 4,
  "nbformat_minor": 0,
  "metadata": {
    "colab": {
      "name": "2-8 example",
      "provenance": [],
      "collapsed_sections": [
        "rRtfuEordUl6",
        "UT0jhLGAdY7f",
        "FSwjEx9PrfLk"
      ],
      "authorship_tag": "ABX9TyM6jbK7IxR+hFLcp6onEUn1",
      "include_colab_link": true
    },
    "kernelspec": {
      "name": "python3",
      "display_name": "Python 3"
    }
  },
  "cells": [
    {
      "cell_type": "markdown",
      "metadata": {
        "id": "view-in-github",
        "colab_type": "text"
      },
      "source": [
        "<a href=\"https://colab.research.google.com/github/youngjae8061/AI_Study/blob/main/2_8_example.ipynb\" target=\"_parent\"><img src=\"https://colab.research.google.com/assets/colab-badge.svg\" alt=\"Open In Colab\"/></a>"
      ]
    },
    {
      "cell_type": "code",
      "metadata": {
        "id": "3ptNZ76L0zud"
      },
      "source": [
        "import numpy as np\n",
        "import matplotlib.pyplot as plt\n",
        "%matplotlib inline"
      ],
      "execution_count": 2,
      "outputs": []
    },
    {
      "cell_type": "markdown",
      "metadata": {
        "id": "rRtfuEordUl6"
      },
      "source": [
        "## 텐서, 스칼라, 벡터, 행렬"
      ]
    },
    {
      "cell_type": "code",
      "metadata": {
        "colab": {
          "base_uri": "https://localhost:8080/"
        },
        "id": "VWSn1HWRYC-F",
        "outputId": "cdbaaaa1-35d0-4204-ff01-b83606e4d665"
      },
      "source": [
        "A = np.array([3, 5, -10])\n",
        "B = np.array([-5, 3, -2])\n",
        "print(A+B)"
      ],
      "execution_count": 2,
      "outputs": [
        {
          "output_type": "stream",
          "text": [
            "[  3   5 -10]\n",
            "[-5  3 -2]\n",
            "[ -2   8 -12]\n"
          ],
          "name": "stdout"
        }
      ]
    },
    {
      "cell_type": "code",
      "metadata": {
        "colab": {
          "base_uri": "https://localhost:8080/"
        },
        "id": "Z-XDz-q7YOh5",
        "outputId": "b358367c-01d9-4407-a32f-27ca5024128e"
      },
      "source": [
        "A = np.array([[1, 5, -2, 3],\n",
        "             [-1, 2, -8, 3],\n",
        "             [2, 3, 6, 5]])\n",
        "B = np.array([[-1, -2, -7, 5],\n",
        "             [-2, 1, -1, 3],\n",
        "             [3, 1, 3, -5]])\n",
        "print(A+B)"
      ],
      "execution_count": 4,
      "outputs": [
        {
          "output_type": "stream",
          "text": [
            "[[ 0  3 -9  8]\n",
            " [-3  3 -9  6]\n",
            " [ 5  4  9  0]]\n"
          ],
          "name": "stdout"
        }
      ]
    },
    {
      "cell_type": "code",
      "metadata": {
        "colab": {
          "base_uri": "https://localhost:8080/"
        },
        "id": "jWhJU5jLbmzd",
        "outputId": "405573f1-ad6f-4d2b-9a4b-643838975a2c"
      },
      "source": [
        "A = np.array([[2, 4, -3],\n",
        "             [6, 5, 5],\n",
        "             [1, -3, 4]])\n",
        "print(np.matmul(A, A))   # A*A\n",
        "print(np.matmul(A, A.T)) # (A*A)^T"
      ],
      "execution_count": 6,
      "outputs": [
        {
          "output_type": "stream",
          "text": [
            "[[ 25  37   2]\n",
            " [ 47  34  27]\n",
            " [-12 -23  -2]]\n",
            "[[ 29  17 -22]\n",
            " [ 17  86  11]\n",
            " [-22  11  26]]\n"
          ],
          "name": "stdout"
        }
      ]
    },
    {
      "cell_type": "code",
      "metadata": {
        "colab": {
          "base_uri": "https://localhost:8080/"
        },
        "id": "KxfpC9KBcIah",
        "outputId": "f082a815-d49e-49b4-b241-123354136826"
      },
      "source": [
        "A = np.random.normal(size=(5, 2, 10)) # A 5 by 2 by 10 의 랭크 3 텐서\n",
        "B = np.random.normal(size=(10, 2))    # B 10 by 2의 랭크 2 텐서\n",
        "AB = np.matmul(A, B)\n",
        "print(AB.shape)"
      ],
      "execution_count": 8,
      "outputs": [
        {
          "output_type": "stream",
          "text": [
            "(5, 2, 2)\n"
          ],
          "name": "stdout"
        }
      ]
    },
    {
      "cell_type": "markdown",
      "metadata": {
        "id": "UT0jhLGAdY7f"
      },
      "source": [
        "## 확률통계, 기초 통계량 분석, 표준정규분포표, 확률간 거리"
      ]
    },
    {
      "cell_type": "code",
      "metadata": {
        "colab": {
          "base_uri": "https://localhost:8080/"
        },
        "id": "Kjrdfms8ckme",
        "outputId": "59468999-3b4c-4c2d-d699-06d542248a4f"
      },
      "source": [
        "AB_list = list(range(-2, 5))\n",
        "AB = np.array(AB_list)\n",
        "A = np.array([0.07, 0.13, 0.3, 0.05, 0.05, 0.18, 0.22])\n",
        "B = np.array([0.22, 0.18, 0.13, 0.05, 0.3, 0.05, 0.07])\n",
        "\n",
        "# A, B 각각 기대값\n",
        "#    enumerate() - 해당 인덱스와 값을 출력해줌\n",
        "#    idx - 인덱스, i - 확률\n",
        "def f_enumerate(value):\n",
        "  exp = 0\n",
        "  for idx, i in enumerate(value):\n",
        "    exp += (idx - 2) * i\n",
        "    #print(exp)\n",
        "  return exp\n",
        "\n",
        "exp_A = f_enumerate(A)\n",
        "exp_B = f_enumerate(B)\n",
        "\n",
        "print(\"A기대값 : {} \\nB기대값 : {}\".format(exp_A, exp_B))"
      ],
      "execution_count": 16,
      "outputs": [
        {
          "output_type": "stream",
          "text": [
            "A기대값 : 1.3 \n",
            "B기대값 : 0.4600000000000001\n"
          ],
          "name": "stdout"
        }
      ]
    },
    {
      "cell_type": "code",
      "metadata": {
        "colab": {
          "base_uri": "https://localhost:8080/"
        },
        "id": "UCzkvApyojyX",
        "outputId": "84768fbd-da0f-4d44-84ab-805fe8ca1169"
      },
      "source": [
        "# A 표준편차\n",
        "print(\"평균\",np.mean(A))\n",
        "print(\"분산\",np.var(A))\n",
        "print(\"표준편차\",np.std(A))"
      ],
      "execution_count": 17,
      "outputs": [
        {
          "output_type": "stream",
          "text": [
            "평균 0.14285714285714285\n",
            "분산 0.007820408163265307\n",
            "표준편차 0.08843307166024092\n"
          ],
          "name": "stdout"
        }
      ]
    },
    {
      "cell_type": "code",
      "metadata": {
        "colab": {
          "base_uri": "https://localhost:8080/"
        },
        "id": "_KMYuaPEp6jz",
        "outputId": "44dd676d-85d6-4090-dddd-d600be97c050"
      },
      "source": [
        "# 랜덤 변수를 만들어내는 사건과 사건의 이질성 - 사건과 사건이 얼마나 다른 지를 표현하는 지표\n",
        "def kl_div(dist1,dist2):\n",
        "    return np.sum(dist1*np.log(dist1/dist2))\n",
        "print(\"KL(p(A)||p(B)) : \", kl_div(A, B))"
      ],
      "execution_count": 18,
      "outputs": [
        {
          "output_type": "stream",
          "text": [
            "KL(p(A)||p(B)) :  0.5213194595709032\n"
          ],
          "name": "stdout"
        }
      ]
    },
    {
      "cell_type": "markdown",
      "metadata": {
        "id": "FSwjEx9PrfLk"
      },
      "source": [
        "## 단일변수, 다변수미분"
      ]
    },
    {
      "cell_type": "code",
      "metadata": {
        "colab": {
          "base_uri": "https://localhost:8080/",
          "height": 0
        },
        "id": "k_w1YfVdrKcG",
        "outputId": "0835921e-454e-44f0-8746-eff022b945eb"
      },
      "source": [
        "x = np.linspace(-3, 3)\n",
        "y = np.linspace(-3, 3)\n",
        "z = np.linspace(-3, 3)\n",
        "\n",
        "def func(x, y, z):\n",
        "  return 2*(x**3) + 5*(x**2)*z - z*(y**2) + 3*x*y - 2*(z**2) + 3*x*y*z\n",
        "\n",
        "# 미분함수 정의 x로 미분\n",
        "def grad_x(x, y, z):\n",
        "  # h : 1e - 10 == 10**-10\n",
        "  return (func(x+1e-10, y, z) - func(x, y, z))/1e-10\n",
        "# 미분함수 정의 y로 미분\n",
        "def grad_y(x, y, z):\n",
        "  return (func(x, y+1e-10, z) - func(x, y, z))/1e-10\n",
        "# 미분함수 정의 z로 미분\n",
        "def grad_z(x, y, z):\n",
        "  return (func(x, y, z+1e-10) - func(x, y, z))/1e-10\n",
        "\n",
        "gradx = grad_x(x, 2, -1)\n",
        "grady = grad_y(1, y, 2)\n",
        "gradz = grad_z(-1, 0, z)\n",
        "\n",
        "# 함수 출력\n",
        "plt.plot(x, gradx)\n",
        "plt.grid()\n",
        "\n",
        "plt.plot(y, grady)\n",
        "plt.grid()\n",
        "\n",
        "plt.plot(z, gradz)\n",
        "plt.grid()"
      ],
      "execution_count": 3,
      "outputs": [
        {
          "output_type": "display_data",
          "data": {
            "image/png": "[encoded data removed]",
            "text/plain": [
              "<Figure size 432x288 with 1 Axes>"
            ]
          },
          "metadata": {
            "tags": [],
            "needs_background": "light"
          }
        }
      ]
    },
    {
      "cell_type": "markdown",
      "metadata": {
        "id": "0E9SdZI5ueLa"
      },
      "source": [
        "## 경사하강법 + 확률론적 경사하강법"
      ]
    },
    {
      "cell_type": "code",
      "metadata": {
        "colab": {
          "base_uri": "https://localhost:8080/",
          "height": 284
        },
        "id": "bltoKETquOEI",
        "outputId": "5ab40c7b-0ef7-48e1-9189-ec268b5806aa"
      },
      "source": [
        "# 함수 정의\n",
        "def func(x):\n",
        "  return np.sin(x) + np.sin((10/3)*x)\n",
        "\n",
        "# x로 미분\n",
        "def grad_x(x):\n",
        "  # h : 1e - 10 == 10**-10\n",
        "  return (func(x+1e-10)-func(x))/1e-10\n",
        "\n",
        "x = np.linspace(2.7, 7.5)\n",
        "y = func(x)\n",
        "\n",
        "# x 초기값이 2.7이고 학습률 alpha가 0.5일때 10번 반복 최소 지점 x?\n",
        "alpha = 0.5\n",
        "x_init = 2.7\n",
        "y_init = func(x_init)\n",
        "plt.plot(x, y)\n",
        "for ep in range(10):\n",
        "  x_init -= alpha*grad_x(x_init)\n",
        "  if ep % 3 == 0:\n",
        "    plt.plot(x_init, func(x_init), '*',label ='{:d} times point'.format(ep+1))\n",
        "#plt.plot(x_init, y_init, 'g*', label = 'Minimum point')\n",
        "plt.legend()\n",
        "plt.grid()\n",
        "\n",
        "print(x_init)"
      ],
      "execution_count": 23,
      "outputs": [
        {
          "output_type": "stream",
          "text": [
            "7.060317662488456\n"
          ],
          "name": "stdout"
        },
        {
          "output_type": "display_data",
          "data": {
            "image/png": "[encoded data removed]",
            "text/plain": [
              "<Figure size 432x288 with 1 Axes>"
            ]
          },
          "metadata": {
            "tags": [],
            "needs_background": "light"
          }
        }
      ]
    },
    {
      "cell_type": "code",
      "metadata": {
        "colab": {
          "base_uri": "https://localhost:8080/",
          "height": 284
        },
        "id": "XY9OqafjV-Xs",
        "outputId": "e4fc77c7-0d09-4aa1-9f20-235b6cd06bc2"
      },
      "source": [
        "# x 초기값이 4.3이고 학습률 alpha가 0.1일때 10번 반복 최소 지점 x?\n",
        "alpha = 0.1\n",
        "x_init = 4.3\n",
        "y_init = func(x_init)\n",
        "plt.plot(x, y)\n",
        "#plt.plot(x_init, y_init, 'r*', label = 'start point')\n",
        "for ep in range(10):\n",
        "  x_init -= alpha*grad_x(x_init)\n",
        "  if ep % 3 == 0:\n",
        "    plt.plot(x_init, func(x_init), '*',label ='{:d} times point'.format(ep+1))\n",
        "#plt.plot(x_init, y_init, 'g*', label = 'Minimum point')\n",
        "plt.legend()\n",
        "plt.grid()\n",
        "\n",
        "print(x_init)"
      ],
      "execution_count": 20,
      "outputs": [
        {
          "output_type": "stream",
          "text": [
            "5.145736036758637\n"
          ],
          "name": "stdout"
        },
        {
          "output_type": "display_data",
          "data": {
            "image/png": "[encoded data removed]",
            "text/plain": [
              "<Figure size 432x288 with 1 Axes>"
            ]
          },
          "metadata": {
            "tags": [],
            "needs_background": "light"
          }
        }
      ]
    },
    {
      "cell_type": "code",
      "metadata": {
        "colab": {
          "base_uri": "https://localhost:8080/"
        },
        "id": "XZp-puUGe4lR",
        "outputId": "34625b95-f5e5-476a-dcb8-82ca697c5789"
      },
      "source": [
        "# 평균값 mean을 통한 경사하강법 평균값 mean을 통한 경사하강법\n",
        "def func(x):\n",
        "  return x**2\n",
        "\n",
        "  def grad_x(x):\n",
        "    return (func(x+1e-10)-func(x))/1e-10\n",
        "\n",
        "    x_init = np.array([3.68, 3.57, 3.46])\n",
        "\n",
        "    for i in range(50):\n",
        "    \n",
        "def func(x):\n",
        "  return x**2\n",
        "\n",
        "def grad_x(x):\n",
        "  return (func(x+1e-10)-func(x))/1e-10\n",
        "\n",
        "x_init = np.array([3.68, 3.57, 3.46])\n",
        "\n",
        "for i in range(50):\n",
        "  x_init -= 0.1 * np.mean(grad_x(x_init))\n",
        "\n",
        "print(x_init)"
      ],
      "execution_count": 24,
      "outputs": [
        {
          "output_type": "stream",
          "text": [
            "[ 1.10050951e-01  5.09514851e-05 -1.09949049e-01]\n"
          ],
          "name": "stdout"
        }
      ]
    }
  ]
}