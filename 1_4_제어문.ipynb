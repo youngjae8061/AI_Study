{
  "nbformat": 4,
  "nbformat_minor": 0,
  "metadata": {
    "colab": {
      "name": "1-4 제어문.ipynb",
      "private_outputs": true,
      "provenance": [],
      "include_colab_link": true
    },
    "kernelspec": {
      "name": "python3",
      "display_name": "Python 3"
    }
  },
  "cells": [
    {
      "cell_type": "markdown",
      "metadata": {
        "id": "view-in-github",
        "colab_type": "text"
      },
      "source": [
        "<a href=\"https://colab.research.google.com/github/youngjae8061/AI_Study/blob/main/1_4_%EC%A0%9C%EC%96%B4%EB%AC%B8.ipynb\" target=\"_parent\"><img src=\"https://colab.research.google.com/assets/colab-badge.svg\" alt=\"Open In Colab\"/></a>"
      ]
    },
    {
      "cell_type": "markdown",
      "metadata": {
        "id": "0N2VJQtTJQxb"
      },
      "source": [
        "## Python 기본 문법\r\n",
        "- 제어문\r\n",
        "  - 조건문\r\n",
        "  - 반복문"
      ]
    },
    {
      "cell_type": "code",
      "metadata": {
        "id": "bIvqmyNNJMFv"
      },
      "source": [
        "# 조건문 if ~ else 구문\r\n",
        "score = 100\r\n",
        "if score == 100:\r\n",
        "  print('점수',score)\r\n",
        "  print('잘했어요!')\r\n",
        "else:\r\n",
        "  print('조금 더 해봅시다!') "
      ],
      "execution_count": null,
      "outputs": []
    },
    {
      "cell_type": "code",
      "metadata": {
        "id": "3Z-YuzMQLOcE"
      },
      "source": [
        "score = 58\r\n",
        "if score >= 80:\r\n",
        "  print('점수',score)\r\n",
        "  print('A등급입니다')\r\n",
        "# else는 if문중 제일 마지막에!\r\n",
        "elif score >= 60:\r\n",
        "  print('점수',score)\r\n",
        "  print('B등급입니다')\r\n",
        "elif score >= 50:\r\n",
        "  print('점수',score)\r\n",
        "  print('C등급입니다')\r\n",
        "else:\r\n",
        "  print('열심히 해보죠!')"
      ],
      "execution_count": null,
      "outputs": []
    },
    {
      "cell_type": "code",
      "metadata": {
        "id": "DOjdob2TMfK7"
      },
      "source": [
        "# 철수랑 영희\r\n",
        "# 철수 --> 60, 영희 --> 80\r\n",
        "# 둘다 합격인지? 한몀만 잘했는지? 둘다 불합격인지?\r\n",
        "Fe_score = 50\r\n",
        "Yh_score = 50\r\n",
        "\r\n",
        "if Fe_score >= 80 and Yh_score >= 80:\r\n",
        "  print('둘다 합격!')\r\n",
        "elif Fe_score >= 80 or Yh_score >= 80:\r\n",
        "  print('한명만 합격!')\r\n",
        "else:\r\n",
        "  print('둘다 불합격')"
      ],
      "execution_count": null,
      "outputs": []
    },
    {
      "cell_type": "code",
      "metadata": {
        "id": "vkRTsyiTNcTy"
      },
      "source": [
        "# 반복문 for,"
      ],
      "execution_count": null,
      "outputs": []
    },
    {
      "cell_type": "code",
      "metadata": {
        "id": "VphirDPHNtzj"
      },
      "source": [
        "array1 = [10,20,30,40,50]\r\n",
        "for i in array1:\r\n",
        "  print(i) # 10 첫번째, 20 두번쨰 .... 50 다섯번째 출력"
      ],
      "execution_count": null,
      "outputs": []
    },
    {
      "cell_type": "code",
      "metadata": {
        "id": "F8oDenTCONJf"
      },
      "source": [
        "for i in range(10):  # range(10) == [0,1,2,3,4,...,9]\r\n",
        "  print(i)"
      ],
      "execution_count": null,
      "outputs": []
    },
    {
      "cell_type": "code",
      "metadata": {
        "id": "fviiGikYOh7a"
      },
      "source": [
        "# enumerate -  리스트의 원소에 순서값을 부여해주는 함수 \r\n",
        "#              반복문을 사용할때 리스트의 순서값, 즉 인덱스의 정보가 필요한 경우\r\n",
        "for idx, ele in enumerate(array1):\r\n",
        "  print('{}번째, 원소 {}'.format(idx,ele))"
      ],
      "execution_count": null,
      "outputs": []
    },
    {
      "cell_type": "code",
      "metadata": {
        "id": "QeWbg_f4PChd"
      },
      "source": [
        "# 반복문 while --> 반복조건문\r\n",
        "i = 0\r\n",
        "while i < 10:\r\n",
        "  i += 1\r\n",
        "  print(i,'출력합니다')"
      ],
      "execution_count": null,
      "outputs": []
    },
    {
      "cell_type": "code",
      "metadata": {
        "id": "0y4KY-2mPk4c"
      },
      "source": [
        "i = 0\r\n",
        "while i >= 0:\r\n",
        "  i += 1 # 무한루프 ctrl+c"
      ],
      "execution_count": null,
      "outputs": []
    },
    {
      "cell_type": "code",
      "metadata": {
        "id": "kaQHvrDIP7HE"
      },
      "source": [
        "print(i)"
      ],
      "execution_count": null,
      "outputs": []
    },
    {
      "cell_type": "code",
      "metadata": {
        "id": "Q7ompadQQTqe"
      },
      "source": [
        ""
      ],
      "execution_count": null,
      "outputs": []
    }
  ]
}