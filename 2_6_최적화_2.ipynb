{
  "nbformat": 4,
  "nbformat_minor": 0,
  "metadata": {
    "colab": {
      "name": "2-6 최적화_2.ipynb",
      "private_outputs": true,
      "provenance": [],
      "collapsed_sections": [],
      "include_colab_link": true
    },
    "kernelspec": {
      "name": "python3",
      "display_name": "Python 3"
    }
  },
  "cells": [
    {
      "cell_type": "markdown",
      "metadata": {
        "id": "view-in-github",
        "colab_type": "text"
      },
      "source": [
        "<a href=\"https://colab.research.google.com/github/youngjae8061/AI_Study/blob/main/2_6_%EC%B5%9C%EC%A0%81%ED%99%94_2.ipynb\" target=\"_parent\"><img src=\"https://colab.research.google.com/assets/colab-badge.svg\" alt=\"Open In Colab\"/></a>"
      ]
    },
    {
      "cell_type": "markdown",
      "metadata": {
        "id": "L6KaEKbNvS1A"
      },
      "source": [
        "- Simple Gradient descent method\r\n",
        "\r\n",
        "$x \\leftarrow x-\\alpha f'(x)$"
      ]
    },
    {
      "cell_type": "code",
      "metadata": {
        "id": "p-_zz1dzvAfN"
      },
      "source": [
        "import numpy as np\n",
        "import matplotlib.pyplot as plt\n",
        "%matplotlib inline\n",
        "\n",
        "x = np.linspace(0,5)\n",
        "y = (x-2)*(x-4)\n",
        "\n",
        "\n",
        "plt.plot(x,y)\n",
        "plt.plot(3,-1,'r*',label='Minimum')\n",
        "plt.grid()\n",
        "plt.legend()"
      ],
      "execution_count": null,
      "outputs": []
    },
    {
      "cell_type": "code",
      "metadata": {
        "id": "IOqWwq6pvGXx"
      },
      "source": [
        "def func(x):\n",
        "  return (x-2)*(x-4) # x**2 -6x +8\n",
        "\n",
        "def grad(x):\n",
        "  return 2*x-6\n",
        "\n",
        "x_init = 0 # 초기지점 << 여기서부터 출발해!!\n",
        "y_init = func(x_init) # 초기값\n",
        "\n",
        "plt.plot(x,y)\n",
        "plt.plot(x_init,y_init,'r*',label='0 times point') # 0번째에서는 그림이 어떻게 그려질 것인가\n",
        "for ep in range(10):\n",
        "  x_init -= 0.2*grad(x_init) # 적절한 학습률 ex)0.2 == alpha, grad(x_init) = f'(x)\n",
        "  if ep % 3 == 0: # 3번째로 반복될때마다 plot 출력\n",
        "    plt.plot(x_init,func(x_init),'*',label='{:d} times point'.format(ep+1))\n",
        "  print(\"{}번째 x좌표 >> {:.6f},  y좌표 >> {:.6f}\".format(ep+1, x_init, func(x_init))) # x좌표와 y좌표 찍어보기\n",
        "plt.legend()\n",
        "plt.grid() # (3,-1) analytic 해 ,   (2.9818, -0.9996) numerical 해"
      ],
      "execution_count": null,
      "outputs": []
    },
    {
      "cell_type": "markdown",
      "metadata": {
        "id": "XyPDnfnswyKy"
      },
      "source": [
        "- Learning rate effect (학습률)\r\n"
      ]
    },
    {
      "cell_type": "code",
      "metadata": {
        "id": "A7e_m5Mvw5Am"
      },
      "source": [
        "x_init = 2\r\n",
        "y_init = func(x_init) # 새로 지정한 값 \r\n",
        "\r\n",
        "plt.plot(x,y)\r\n",
        "plt.plot(x_init,y_init,'r*',label='0 times point')\r\n",
        "for ep in range(10):\r\n",
        "  x_init -= 1.05*grad(x_init) # 빠르게 학습해라 - 과도한 학습률 <<< 이렇게되면 엉뚱한 곳을 찾게됨\r\n",
        "  if ep % 3 == 0:\r\n",
        "    plt.plot(x_init,func(x_init),'*',label='{:d} times point'.format(ep+1))\r\n",
        "print(x_init,func(x_init))\r\n",
        "plt.legend()\r\n",
        "plt.grid()"
      ],
      "execution_count": null,
      "outputs": []
    },
    {
      "cell_type": "markdown",
      "metadata": {
        "id": "mOS8r21tvIS_"
      },
      "source": [
        "- Local minima (국부최소지점)"
      ]
    },
    {
      "cell_type": "code",
      "metadata": {
        "id": "wjhE6BC6vRAw"
      },
      "source": [
        "# 4차 함수\n",
        "def func(x):\n",
        "  return (x-2.45)*(x-0.06)*(x-1.35)*(x-4.5)\n",
        "\n",
        "y = func(x)\n",
        "plt.plot(x,y)\n",
        "plt.grid()"
      ],
      "execution_count": null,
      "outputs": []
    },
    {
      "cell_type": "code",
      "metadata": {
        "id": "AvEqmlFvOojA"
      },
      "source": [
        "def grad(x):\r\n",
        "  # h -> 0, h = 10**-10\r\n",
        "  return (func(x+1e-10)-func(x))/1e-10"
      ],
      "execution_count": null,
      "outputs": []
    },
    {
      "cell_type": "code",
      "metadata": {
        "id": "Or4OaRjRwFm_"
      },
      "source": [
        "# local minima\r\n",
        "x_init = 0\r\n",
        "y_init = func(x_init)\r\n",
        "\r\n",
        "plt.plot(x,y)\r\n",
        "plt.plot(x_init,y_init,'r*',label='0 times point')\r\n",
        "for ep in range(10):\r\n",
        "  x_init -= 0.01*grad(x_init)\r\n",
        "  if ep % 3 == 0:\r\n",
        "    plt.plot(x_init,func(x_init),'*',label='{:d} times point'.format(ep+1))\r\n",
        "  print(\"{}번째 x좌표 >> {:.6f},  y좌표 >> {:.6f}\".format(ep+1, x_init, func(x_init))) # x좌표와 y좌표 찍어보기\r\n",
        "plt.legend()\r\n",
        "plt.grid()"
      ],
      "execution_count": null,
      "outputs": []
    },
    {
      "cell_type": "code",
      "metadata": {
        "id": "I1yfJ4C_xrqJ"
      },
      "source": [
        "# next initialize\r\n",
        "x_init = 5\r\n",
        "y_init = func(x_init)\r\n",
        "\r\n",
        "plt.plot(x,y)\r\n",
        "plt.plot(x_init,y_init,'r*',label='0 times point')\r\n",
        "for ep in range(60):\r\n",
        "  x_init -= 0.01*grad(x_init)\r\n",
        "  if ep % 10 == 0:\r\n",
        "    plt.plot(x_init,func(x_init),'*',label='{:d} times point'.format(ep+1))\r\n",
        "    print(\"{}번째 x좌표 >> {:.6f},  y좌표 >> {:.6f}\".format(ep+1, x_init, func(x_init))) # x좌표와 y좌표 찍어보기\r\n",
        "plt.legend()\r\n",
        "plt.grid()"
      ],
      "execution_count": null,
      "outputs": []
    },
    {
      "cell_type": "code",
      "metadata": {
        "id": "isFNygGYx-mQ"
      },
      "source": [
        ""
      ],
      "execution_count": null,
      "outputs": []
    }
  ]
}