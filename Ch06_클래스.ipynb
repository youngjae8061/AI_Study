{
  "nbformat": 4,
  "nbformat_minor": 0,
  "metadata": {
    "colab": {
      "name": "Ch06_클래스.ipynb",
      "provenance": [],
      "authorship_tag": "ABX9TyNrTM7j81of+73KDHagSVXp",
      "include_colab_link": true
    },
    "kernelspec": {
      "name": "python3",
      "display_name": "Python 3"
    }
  },
  "cells": [
    {
      "cell_type": "markdown",
      "metadata": {
        "id": "view-in-github",
        "colab_type": "text"
      },
      "source": [
        "<a href=\"https://colab.research.google.com/github/youngjae8061/AI_Study/blob/main/Ch06_%ED%81%B4%EB%9E%98%EC%8A%A4.ipynb\" target=\"_parent\"><img src=\"https://colab.research.google.com/assets/colab-badge.svg\" alt=\"Open In Colab\"/></a>"
      ]
    },
    {
      "cell_type": "markdown",
      "metadata": {
        "id": "oAX19dKi-5w2"
      },
      "source": [
        "### 클래스\r\n",
        "# 클래스 생성"
      ]
    },
    {
      "cell_type": "code",
      "metadata": {
        "id": "EwDIlRfn-_nb"
      },
      "source": [
        "# 사칙연산 클래스 만들어 보기\r\n",
        "class Calculator():\r\n",
        "  # 클래스 초기화\r\n",
        "  def __init__(self):\r\n",
        "    self.memory = 0\r\n",
        "  \r\n",
        "  def show(self):\r\n",
        "    #                                 실수형으로 출력하겠다.\r\n",
        "    print(\"현재 계산기에 저장된 값 : {:f}\".format(self.memory))\r\n",
        "  \r\n",
        "  def clear(self):\r\n",
        "    self.memory = 0\r\n",
        "\r\n",
        "  def add(self, a):\r\n",
        "    self.memory += a\r\n",
        "  \r\n",
        "  def subtract(self, a):\r\n",
        "    self.memory -= a\r\n",
        "  \r\n",
        "  def mul(self, a):\r\n",
        "    self.memory *= a\r\n",
        "  \r\n",
        "  def div(self, a):\r\n",
        "    try:\r\n",
        "      self.memory /= a\r\n",
        "    except:\r\n",
        "      print(\"0으로 나누는 것은 불가능 합니다.\")"
      ],
      "execution_count": 3,
      "outputs": []
    },
    {
      "cell_type": "code",
      "metadata": {
        "id": "3I_ZpBcXAJYF"
      },
      "source": [
        "# Calculator 클래스의 모든 메서드를 갖는 변수 cal1을 생성\r\n",
        "cal1 = Calculator()"
      ],
      "execution_count": 4,
      "outputs": []
    },
    {
      "cell_type": "code",
      "metadata": {
        "id": "lKtrvOVEAStn"
      },
      "source": [
        "# memory에 3을 더해라\r\n",
        "cal1.add(3)"
      ],
      "execution_count": 5,
      "outputs": []
    },
    {
      "cell_type": "code",
      "metadata": {
        "colab": {
          "base_uri": "https://localhost:8080/"
        },
        "id": "_XnupDu4AajX",
        "outputId": "c8b58ead-769e-4d99-de79-186c88a8ff3a"
      },
      "source": [
        "cal1.show()"
      ],
      "execution_count": 7,
      "outputs": [
        {
          "output_type": "stream",
          "text": [
            "현재 계산기에 저장된 값 : 3.000000\n"
          ],
          "name": "stdout"
        }
      ]
    },
    {
      "cell_type": "code",
      "metadata": {
        "colab": {
          "base_uri": "https://localhost:8080/"
        },
        "id": "7BdE2GGhAdJn",
        "outputId": "964dacc2-746e-4d90-bd93-2f4f2f13395e"
      },
      "source": [
        "cal1.mul(3.5)\r\n",
        "cal1.show()"
      ],
      "execution_count": 8,
      "outputs": [
        {
          "output_type": "stream",
          "text": [
            "현재 계산기에 저장된 값 : 10.500000\n"
          ],
          "name": "stdout"
        }
      ]
    },
    {
      "cell_type": "code",
      "metadata": {
        "colab": {
          "base_uri": "https://localhost:8080/"
        },
        "id": "dadhcq4zAne-",
        "outputId": "a94cbe81-fc35-41cb-820e-ed6e59bb1e24"
      },
      "source": [
        "cal1.clear()\r\n",
        "cal1.show()"
      ],
      "execution_count": 9,
      "outputs": [
        {
          "output_type": "stream",
          "text": [
            "현재 계산기에 저장된 값 : 0.000000\n"
          ],
          "name": "stdout"
        }
      ]
    },
    {
      "cell_type": "code",
      "metadata": {
        "id": "_7gNRMLLAril"
      },
      "source": [
        "# cal1과는 다른 새로운 계산기 변수 생성\r\n",
        "cal2 = Calculator()"
      ],
      "execution_count": 11,
      "outputs": []
    },
    {
      "cell_type": "code",
      "metadata": {
        "colab": {
          "base_uri": "https://localhost:8080/"
        },
        "id": "sZ7r_KagAxHs",
        "outputId": "ba3e0e48-c62e-4819-87c8-e4c2bfd07a8f"
      },
      "source": [
        "cal2.subtract(5)\r\n",
        "cal2.show()"
      ],
      "execution_count": 12,
      "outputs": [
        {
          "output_type": "stream",
          "text": [
            "현재 계산기에 저장된 값 : -5.000000\n"
          ],
          "name": "stdout"
        }
      ]
    },
    {
      "cell_type": "code",
      "metadata": {
        "colab": {
          "base_uri": "https://localhost:8080/"
        },
        "id": "3YPjGj6HA2LK",
        "outputId": "d9d2b09b-e278-48e8-b2a7-634485282a7d"
      },
      "source": [
        "cal2.add(10)\r\n",
        "cal2.show()"
      ],
      "execution_count": 13,
      "outputs": [
        {
          "output_type": "stream",
          "text": [
            "현재 계산기에 저장된 값 : 5.000000\n"
          ],
          "name": "stdout"
        }
      ]
    },
    {
      "cell_type": "code",
      "metadata": {
        "id": "fjUYTu5SA4iI"
      },
      "source": [
        ""
      ],
      "execution_count": null,
      "outputs": []
    },
    {
      "cell_type": "markdown",
      "metadata": {
        "id": "Yzx3Q9IDBNyz"
      },
      "source": [
        "# 클래스 상속"
      ]
    },
    {
      "cell_type": "code",
      "metadata": {
        "id": "O3-l04WqBQqD"
      },
      "source": [
        "# Calculator()클래스를 상속받는 함수 advance_calculator 클래스 만들기\r\n",
        "class advance_calculator(Calculator):\r\n",
        "  def __init__(self):\r\n",
        "    # Calculator()를 상속받는다는 의미\r\n",
        "    # super를 통해 Calculator에 self를 advance_calculator와 도치시킨다.\r\n",
        "    # 따라서 Calculator()의 self.memory와 모든 메서드를 가져온다.\r\n",
        "    super(advance_calculator, self).__init__()\r\n",
        "  \r\n",
        "  # ax + b\r\n",
        "  def first_sol(self, a, b):\r\n",
        "    self.memory = a * self.memory + b\r\n",
        "\r\n",
        "  # ax^2 + bx + c\r\n",
        "  def second_sol(self, a, b, c):\r\n",
        "    self.memory = a * self.memory**2 + b * self.memory + c"
      ],
      "execution_count": 17,
      "outputs": []
    },
    {
      "cell_type": "code",
      "metadata": {
        "id": "QL0vpTwPC-6k"
      },
      "source": [
        "# advance_calculator 변수 adv_cal 생성\r\n",
        "adv_cal = advance_calculator()"
      ],
      "execution_count": 18,
      "outputs": []
    },
    {
      "cell_type": "code",
      "metadata": {
        "colab": {
          "base_uri": "https://localhost:8080/"
        },
        "id": "f74lF5F7DFs9",
        "outputId": "f4c31fea-f57b-48b4-dd5d-b9103f1c05c2"
      },
      "source": [
        "# Calculator의 메서드를 사용하는것을 확인할 수 있음.\r\n",
        "adv_cal.add(3)\r\n",
        "adv_cal.show()"
      ],
      "execution_count": 19,
      "outputs": [
        {
          "output_type": "stream",
          "text": [
            "현재 계산기에 저장된 값 : 3.000000\n"
          ],
          "name": "stdout"
        }
      ]
    },
    {
      "cell_type": "code",
      "metadata": {
        "colab": {
          "base_uri": "https://localhost:8080/"
        },
        "id": "WBjFz9RaDMS5",
        "outputId": "7d3339ff-bb1b-4536-c70d-e13c7cdffbc1"
      },
      "source": [
        "adv_cal.first_sol(3,5)\r\n",
        "adv_cal.show()"
      ],
      "execution_count": 20,
      "outputs": [
        {
          "output_type": "stream",
          "text": [
            "현재 계산기에 저장된 값 : 14.000000\n"
          ],
          "name": "stdout"
        }
      ]
    },
    {
      "cell_type": "code",
      "metadata": {
        "colab": {
          "base_uri": "https://localhost:8080/"
        },
        "id": "X7zmwWQJDZ1H",
        "outputId": "932ea788-cacd-4056-f04f-462e7759c082"
      },
      "source": [
        "adv_cal.clear()\r\n",
        "adv_cal.second_sol(1, 2, 3)\r\n",
        "adv_cal.show()"
      ],
      "execution_count": 21,
      "outputs": [
        {
          "output_type": "stream",
          "text": [
            "현재 계산기에 저장된 값 : 3.000000\n"
          ],
          "name": "stdout"
        }
      ]
    },
    {
      "cell_type": "code",
      "metadata": {
        "id": "1b05_wutDm0L"
      },
      "source": [
        ""
      ],
      "execution_count": null,
      "outputs": []
    }
  ]
}