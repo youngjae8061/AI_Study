{
  "nbformat": 4,
  "nbformat_minor": 0,
  "metadata": {
    "colab": {
      "name": "1-3 자료형.ipynb",
      "private_outputs": true,
      "provenance": [],
      "collapsed_sections": [],
      "include_colab_link": true
    },
    "kernelspec": {
      "name": "python3",
      "display_name": "Python 3"
    }
  },
  "cells": [
    {
      "cell_type": "markdown",
      "metadata": {
        "id": "view-in-github",
        "colab_type": "text"
      },
      "source": [
        "<a href=\"https://colab.research.google.com/github/youngjae8061/AI_Study/blob/main/1_3_%EC%9E%90%EB%A3%8C%ED%98%95.ipynb\" target=\"_parent\"><img src=\"https://colab.research.google.com/assets/colab-badge.svg\" alt=\"Open In Colab\"/></a>"
      ]
    },
    {
      "cell_type": "markdown",
      "metadata": {
        "id": "FTdZh_cO2b6a"
      },
      "source": [
        "## 파이썬이 이해하는 정보 - 변수\r\n",
        "\r\n",
        "- 변수: 컴퓨터가 저장해놓은 기억\r\n",
        "  - 변수는 알파벳으로 시작합니다! \r\n",
        "  - 파이썬 변수는 대.소문자 구분해요!"
      ]
    },
    {
      "cell_type": "markdown",
      "metadata": {
        "id": "lTXrirkG4lcz"
      },
      "source": [
        "- 정수, 실수형"
      ]
    },
    {
      "cell_type": "code",
      "metadata": {
        "id": "aNIBKSgc4ksA"
      },
      "source": [
        "# 변수정의\r\n",
        "a = 3\r\n",
        "type(a)"
      ],
      "execution_count": null,
      "outputs": []
    },
    {
      "cell_type": "code",
      "metadata": {
        "id": "s_Gm12IG4rx9"
      },
      "source": [
        "# 변수정의\r\n",
        "a_1 = 1.1\r\n",
        "type(a_1)"
      ],
      "execution_count": null,
      "outputs": []
    },
    {
      "cell_type": "code",
      "metadata": {
        "id": "GKOKPbyX5Ox3"
      },
      "source": [
        "a_new = int(a_1)\r\n",
        "print(a_new)\r\n",
        "a_new2 = float(a_new)\r\n",
        "print(a_new2)"
      ],
      "execution_count": null,
      "outputs": []
    },
    {
      "cell_type": "markdown",
      "metadata": {
        "id": "6G-gIuou52ld"
      },
      "source": [
        "- 논리형"
      ]
    },
    {
      "cell_type": "code",
      "metadata": {
        "id": "ICWZRf1B56YB"
      },
      "source": [
        "a = True\r\n",
        "type(a)"
      ],
      "execution_count": null,
      "outputs": []
    },
    {
      "cell_type": "code",
      "metadata": {
        "id": "lhr673eX5-tx"
      },
      "source": [
        "b = False\r\n",
        "type(b)"
      ],
      "execution_count": null,
      "outputs": []
    },
    {
      "cell_type": "code",
      "metadata": {
        "id": "5gPS44ql6DK9"
      },
      "source": [
        "# 0과 1, True(1)와 False(0)\r\n",
        "a_t = 1\r\n",
        "print(a_t == a)\r\n",
        "print(a_t == b)\r\n",
        "a_f = 0\r\n",
        "print(a_f == b)\r\n",
        "print(a_f == a)"
      ],
      "execution_count": null,
      "outputs": []
    },
    {
      "cell_type": "markdown",
      "metadata": {
        "id": "dqZDay8l3RPY"
      },
      "source": [
        "- 문자형(string)\r\n"
      ]
    },
    {
      "cell_type": "code",
      "metadata": {
        "id": "dPUtDILs2UGI"
      },
      "source": [
        "# 변수 정의 예제\r\n",
        "a = 'Hello world!'\r\n",
        "type(a)"
      ],
      "execution_count": null,
      "outputs": []
    },
    {
      "cell_type": "code",
      "metadata": {
        "id": "FkE1twtK4QKs"
      },
      "source": [
        "# 문자형 변수 출력\r\n",
        "print(a)"
      ],
      "execution_count": null,
      "outputs": []
    },
    {
      "cell_type": "code",
      "metadata": {
        "id": "dTPPUM3K4Usm"
      },
      "source": [
        "# 문자형은 같은 문자형끼리 덧셈연산도 가능하다!\r\n",
        "a += ' Classmate!'\r\n",
        "print(a)"
      ],
      "execution_count": null,
      "outputs": []
    },
    {
      "cell_type": "code",
      "metadata": {
        "id": "eGqtqiaR4ZjO"
      },
      "source": [
        "# 잘못된 예시\r\n",
        "a += 1"
      ],
      "execution_count": null,
      "outputs": []
    },
    {
      "cell_type": "code",
      "metadata": {
        "id": "CvmwaFRV61go"
      },
      "source": [
        "a += str(1)\r\n",
        "print(a)"
      ],
      "execution_count": null,
      "outputs": []
    },
    {
      "cell_type": "markdown",
      "metadata": {
        "id": "x8Qu21Ia6-bC"
      },
      "source": [
        "- 집합 자료형 <<<<< 중요!!!!!\r\n",
        "  1. 리스트\r\n",
        "  2. 딕셔너리 "
      ]
    },
    {
      "cell_type": "code",
      "metadata": {
        "id": "Z2vQcTps66sk"
      },
      "source": [
        "# 1 리스트\r\n",
        "a = []\r\n",
        "type(a)"
      ],
      "execution_count": null,
      "outputs": []
    },
    {
      "cell_type": "code",
      "metadata": {
        "id": "QjTF8749-U_C"
      },
      "source": [
        "a.append(1)\r\n",
        "a.append('2')"
      ],
      "execution_count": null,
      "outputs": []
    },
    {
      "cell_type": "code",
      "metadata": {
        "id": "sM6oAqpc-X_1"
      },
      "source": [
        "print(len(a))\r\n",
        "print(a)"
      ],
      "execution_count": null,
      "outputs": []
    },
    {
      "cell_type": "code",
      "metadata": {
        "id": "aA37csJ2-b7C"
      },
      "source": [
        "print(a[0])\r\n",
        "print(a[1])"
      ],
      "execution_count": null,
      "outputs": []
    },
    {
      "cell_type": "code",
      "metadata": {
        "id": "8ZKxghGI-inr"
      },
      "source": [
        "# 딕셔너리\r\n",
        "a = {}\r\n",
        "type(a)"
      ],
      "execution_count": null,
      "outputs": []
    },
    {
      "cell_type": "code",
      "metadata": {
        "id": "PbGNlARL-tAA"
      },
      "source": [
        "# 열쇠와 자물쇠의 관계\r\n",
        "a['1'] = 0\r\n",
        "a[0] = 'Hello'"
      ],
      "execution_count": null,
      "outputs": []
    },
    {
      "cell_type": "code",
      "metadata": {
        "id": "34-7yxdb-1z2"
      },
      "source": [
        "print(a)"
      ],
      "execution_count": null,
      "outputs": []
    },
    {
      "cell_type": "code",
      "metadata": {
        "id": "36glzaK7-3nC"
      },
      "source": [
        "print(a.keys())\r\n",
        "print(a.values())"
      ],
      "execution_count": null,
      "outputs": []
    },
    {
      "cell_type": "code",
      "metadata": {
        "id": "eZSqNNbG-6CH"
      },
      "source": [
        "a.items()"
      ],
      "execution_count": null,
      "outputs": []
    },
    {
      "cell_type": "code",
      "metadata": {
        "id": "2LLDd-nF-7g4"
      },
      "source": [
        "print(a[0])\r\n",
        "print(a[str(1)])"
      ],
      "execution_count": null,
      "outputs": []
    },
    {
      "cell_type": "markdown",
      "metadata": {
        "id": "2Mp1V594_l7C"
      },
      "source": [
        "- 변수 제거\r\n",
        "  - 때론 컴퓨터가 너무 많은 변수를 기억해서 힘들어함\r\n",
        "  - --> del '변수명'"
      ]
    },
    {
      "cell_type": "code",
      "metadata": {
        "id": "P1SySa7-_IKW"
      },
      "source": [
        "del a\r\n",
        "print(a)"
      ],
      "execution_count": null,
      "outputs": []
    },
    {
      "cell_type": "code",
      "metadata": {
        "id": "7swnfjsV_0DA"
      },
      "source": [
        ""
      ],
      "execution_count": null,
      "outputs": []
    }
  ]
}