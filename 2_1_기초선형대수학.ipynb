{
  "nbformat": 4,
  "nbformat_minor": 0,
  "metadata": {
    "kernelspec": {
      "display_name": "Python 3",
      "language": "python",
      "name": "python3"
    },
    "language_info": {
      "codemirror_mode": {
        "name": "ipython",
        "version": 3
      },
      "file_extension": ".py",
      "mimetype": "text/x-python",
      "name": "python",
      "nbconvert_exporter": "python",
      "pygments_lexer": "ipython3",
      "version": "3.8.3"
    },
    "colab": {
      "name": "2-1 기초선형대수학.ipynb",
      "provenance": [],
      "collapsed_sections": [],
      "include_colab_link": true
    }
  },
  "cells": [
    {
      "cell_type": "markdown",
      "metadata": {
        "id": "view-in-github",
        "colab_type": "text"
      },
      "source": [
        "<a href=\"https://colab.research.google.com/github/youngjae8061/AI_Study/blob/main/2_1_%EA%B8%B0%EC%B4%88%EC%84%A0%ED%98%95%EB%8C%80%EC%88%98%ED%95%99.ipynb\" target=\"_parent\"><img src=\"https://colab.research.google.com/assets/colab-badge.svg\" alt=\"Open In Colab\"/></a>"
      ]
    },
    {
      "cell_type": "markdown",
      "metadata": {
        "id": "OF0A1bMMiHZ-"
      },
      "source": [
        "## Basic linear algebra"
      ]
    },
    {
      "cell_type": "markdown",
      "metadata": {
        "id": "qyG_zwzviHaD"
      },
      "source": [
        "### 기초 선형대수학"
      ]
    },
    {
      "cell_type": "markdown",
      "metadata": {
        "id": "MG3TUQ3NiHaD"
      },
      "source": [
        "자료형 중 - scalar, vector, matrix, tensor\n"
      ]
    },
    {
      "cell_type": "markdown",
      "metadata": {
        "id": "zlXXUi6uiHaE"
      },
      "source": [
        "- 스칼라(scalar >> x) $x \\in R$\n",
        "    1. (의미없이 크기만 존재하는) 단순한 숫자!\n",
        "    2. 방향성이 없다!\n",
        "    3. 무조건 크기만 존재하는 수\n",
        "    4. 랭크 0 텐서 == 스칼라"
      ]
    },
    {
      "cell_type": "code",
      "metadata": {
        "id": "j3TEhARgiHaE"
      },
      "source": [
        "import numpy as np"
      ],
      "execution_count": 1,
      "outputs": []
    },
    {
      "cell_type": "code",
      "metadata": {
        "id": "I0IE2ru1iHaF",
        "colab": {
          "base_uri": "https://localhost:8080/"
        },
        "outputId": "a8dc9b44-f622-4630-e62a-2ac750836c68"
      },
      "source": [
        "# scalar 예시\r\n",
        "a = np.array(5)\r\n",
        "print(\"값\", a)\r\n",
        "print(\"형태\", a.shape) # 단순한 숫자이고 방향성이 없기때문에 형태가 없다고 나옴"
      ],
      "execution_count": 2,
      "outputs": [
        {
          "output_type": "stream",
          "text": [
            "값 5\n",
            "형태 ()\n"
          ],
          "name": "stdout"
        }
      ]
    },
    {
      "cell_type": "markdown",
      "metadata": {
        "id": "O3v4Ie7wiHaG"
      },
      "source": [
        "- 벡터(vector) $X\\in R^d$  실수가 d개만큼 있다. . . . d가 1이라면 스칼라와 같음 d가 2면 2차원 3이면 3차원\n",
        "    1. 숫자들의 배열\n",
        "    2. 크기와 방향의 개념이 존재하는 수 - 차원의 등장!\n",
        "    3. ex) 속도\n",
        "    4. 스칼라와 스칼라의 연관성 이해\n",
        "    5. 랭크 1 텐서 << 랭크 0 텐서보다 고차원\n",
        "\n",
        "    ![vector.png](data:image/png;base64,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)"
      ]
    },
    {
      "cell_type": "code",
      "metadata": {
        "id": "iTyi6l41iHaG",
        "colab": {
          "base_uri": "https://localhost:8080/"
        },
        "outputId": "7bc75e49-1e72-40f5-d2c1-2a866e1d4dce"
      },
      "source": [
        "# 1차원 벡터 --> 스칼라\r\n",
        "vec1= np.array([5])\r\n",
        "print(\"값\", vec1)\r\n",
        "print(\"형태\", vec1.shape) # 1차원 벡터(원소 1개)이므로 1, 으로 나옴"
      ],
      "execution_count": 3,
      "outputs": [
        {
          "output_type": "stream",
          "text": [
            "값 [5]\n",
            "형태 (1,)\n"
          ],
          "name": "stdout"
        }
      ]
    },
    {
      "cell_type": "code",
      "metadata": {
        "id": "U5pZStmmiHaH",
        "colab": {
          "base_uri": "https://localhost:8080/"
        },
        "outputId": "8cd1cf67-d451-45a7-886c-d714cb2e2b2b"
      },
      "source": [
        "# 2차원, 3차원 .... n차원 벡터\r\n",
        "vec2 = np.array([2, 4])\r\n",
        "print(\"값\", vec2)\r\n",
        "print(\"형태\", vec2.shape)\r\n",
        "\r\n",
        "vec3 = np.array([1, 3, 5])\r\n",
        "print(\"값\", vec3)\r\n",
        "print(\"형태\", vec3.shape)\r\n",
        "\r\n",
        "vec5 = np.array([-1.1, -3, -2, 7, 8])\r\n",
        "print(\"값\", vec5)\r\n",
        "print(\"형태\", vec5.shape)"
      ],
      "execution_count": 5,
      "outputs": [
        {
          "output_type": "stream",
          "text": [
            "값 [2 4]\n",
            "형태 (2,)\n",
            "값 [1 3 5]\n",
            "형태 (3,)\n",
            "값 [-1.1 -3.  -2.   7.   8. ]\n",
            "형태 (5,)\n"
          ],
          "name": "stdout"
        }
      ]
    },
    {
      "cell_type": "markdown",
      "metadata": {
        "id": "OR6ESMmNiHaH"
      },
      "source": [
        "- 행렬(matrix) $ X \\in R^{m*n}$    m행 n열\n",
        "    1. 수의 배열\n",
        "    2. 벡터와 벡터끼리의 연관성 이해\n",
        "    3. 선형방정식의 뿌리\n",
        "    4. 예시) 소와 닭 -- 합해서 8마리, 동물의 다리개수 -- 26개, 소는 몇마리?, 닭은 몇마리?\n",
        "    5. 랭크 2 텐서\n",
        "\n",
        "$AX=B$\n",
        "\n",
        "$\\begin{bmatrix} \n",
        "  1 & 1\\\\\n",
        "  4 & 2 \\\\\n",
        "\\end{bmatrix} \\begin{bmatrix}\n",
        "x_1 \\\\\n",
        "x_2\n",
        "\\end{bmatrix}= \\begin{bmatrix}\n",
        "8 \\\\\n",
        "26 \\\\\n",
        "\\end{bmatrix}$"
      ]
    },
    {
      "cell_type": "code",
      "metadata": {
        "id": "pFiTersHiHaH",
        "colab": {
          "base_uri": "https://localhost:8080/"
        },
        "outputId": "f2fcd678-fd67-469c-890f-1dc9c6538698"
      },
      "source": [
        "# 2x2 정방행렬\r\n",
        "mat1 = np.array([[1,1],[4,2]]) # 벡터에서는 [] 안에 스칼라가 들어갔는데 행렬에서는 벡터[]가 들어감\r\n",
        "print(\"값\", mat1)\r\n",
        "print(\"형태\", mat1.shape)\r\n",
        "\r\n",
        "# 4x3 행렬\r\n",
        "mat2 = np.array([[3,5,7],[1,2,4],[3,10,-2.5],[-3.3, 4.5, 1.2]])\r\n",
        "print(\"값\", mat2)\r\n",
        "print(\"형태\", mat2.shape)\r\n"
      ],
      "execution_count": 6,
      "outputs": [
        {
          "output_type": "stream",
          "text": [
            "값 [[1 1]\n",
            " [4 2]]\n",
            "형태 (2, 2)\n",
            "값 [[ 3.   5.   7. ]\n",
            " [ 1.   2.   4. ]\n",
            " [ 3.  10.  -2.5]\n",
            " [-3.3  4.5  1.2]]\n",
            "형태 (4, 3)\n"
          ],
          "name": "stdout"
        }
      ]
    },
    {
      "cell_type": "markdown",
      "metadata": {
        "id": "S1RSAoayiHaI"
      },
      "source": [
        "- 텐서(tensor)\n",
        "    1. 여기부터 어려워져요!\n",
        "    2. 다중선형사상(multiple linear mapping)\n",
        "    3. 벡터가 쌓이고 쌓이고 쌓이고 ....랭크의 추가!"
      ]
    },
    {
      "cell_type": "markdown",
      "metadata": {
        "id": "JL6Qo5_aiHaI"
      },
      "source": [
        "### -------------------------------\n",
        "\n",
        "- 텐서의 기초연산\n",
        "    1. 덧셈\n",
        "    2. 곱셈\n",
        "        - 행렬 곱셈\n",
        "        - 원소별 곱셈"
      ]
    },
    {
      "cell_type": "code",
      "metadata": {
        "id": "xe98zY6WiHaI",
        "colab": {
          "base_uri": "https://localhost:8080/"
        },
        "outputId": "dfad2b53-0a3f-44fa-ff96-2bd7daa0dc00"
      },
      "source": [
        "# 덧셈 --> 같은 형태(차원)의 텐서만 덧셈이 가능\r\n",
        "# 3차원 벡터의 덧셈 예제\r\n",
        "A = np.array([3, 5, 6])\r\n",
        "B = np.array([1, -5, 7])\r\n",
        "print('A+B', A+B)\r\n",
        "print('A-B', A-B)\r\n",
        "B*=-1\r\n",
        "print('B *= -1한 결과 기존에 A-B와 결과가 같음',A+B)"
      ],
      "execution_count": 10,
      "outputs": [
        {
          "output_type": "stream",
          "text": [
            "A+B [ 4  0 13]\n",
            "A-B [ 2 10 -1]\n",
            "B *= -1한 결과 기존에 A-B와 결과가 같음 [ 2 10 -1]\n"
          ],
          "name": "stdout"
        }
      ]
    },
    {
      "cell_type": "code",
      "metadata": {
        "id": "gbvHuGZBiHaI"
      },
      "source": [
        "# 다른차원끼리는 안됨 에러남!\r\n",
        "a2 = np.array([3,5])\r\n",
        "print(a2+B)"
      ],
      "execution_count": null,
      "outputs": []
    },
    {
      "cell_type": "code",
      "metadata": {
        "id": "xRwtpZfiiHaI",
        "colab": {
          "base_uri": "https://localhost:8080/"
        },
        "outputId": "97746ff0-9594-4025-cd26-0820753d81b5"
      },
      "source": [
        "# 행렬 곱셈 --> 앞텐서의 마지막차원, 뒤텐서의 첫번째 차원이 동일해야만 가능  <<<<<<<<<<<<<<<<<<<<<<<  np.matmul()\r\n",
        "# 5x3 행렬\r\n",
        "A = np.random.normal(size=(5,3))  # 5x3 행렬에 랜덤수를 넣어라\r\n",
        "B = np.random.normal(size=(3,10))\r\n",
        "print(A.shape)\r\n",
        "print(B.shape)"
      ],
      "execution_count": 11,
      "outputs": [
        {
          "output_type": "stream",
          "text": [
            "(5, 3)\n",
            "(3, 10)\n"
          ],
          "name": "stdout"
        }
      ]
    },
    {
      "cell_type": "code",
      "metadata": {
        "id": "d2H_JhSBiHaJ",
        "colab": {
          "base_uri": "https://localhost:8080/"
        },
        "outputId": "fc1c027b-d02d-44e6-ebd0-d9961a70669a"
      },
      "source": [
        "# A*B\r\n",
        "C = np.matmul(A,B)  # 5x3 * 3x10 계산 가능\r\n",
        "print(C)\r\n",
        "print(C.shape)"
      ],
      "execution_count": 15,
      "outputs": [
        {
          "output_type": "stream",
          "text": [
            "[[-0.47184351  0.95997814  0.95358552  0.10492895 -1.22079963  3.67447829\n",
            "  -0.89245077 -0.82178191 -1.07711472 -0.57828759]\n",
            " [-0.48361504  1.95031031  0.67412179  0.21356863 -0.73489557 -0.27806738\n",
            "  -3.88565115 -0.14481243 -1.72434533 -1.39994449]\n",
            " [ 0.90166319 -1.41225036 -1.00476921  0.34518597 -1.71349406  4.0254893\n",
            "   1.9973086  -0.86486682 -1.01888863  0.14640942]\n",
            " [ 0.80857258 -1.67291341 -1.11841687  0.08362847 -0.20261122  0.65808325\n",
            "   2.4634103  -0.07404892  0.36615612  0.69085683]\n",
            " [ 1.11470757 -2.59010601 -1.68673148 -0.03881757  0.62100514 -1.06052434\n",
            "   3.87708498  0.36779836  1.37799192  1.33871594]]\n",
            "(5, 10)\n"
          ],
          "name": "stdout"
        }
      ]
    },
    {
      "cell_type": "code",
      "metadata": {
        "id": "5YnvnkzDNZXf"
      },
      "source": [
        "D = np.matmul(B,A)  # 3x10 * 5*3 계산 불가 에러남!!!!!\r\n",
        "print(D)\r\n",
        "print(D.shape)"
      ],
      "execution_count": null,
      "outputs": []
    },
    {
      "cell_type": "code",
      "metadata": {
        "colab": {
          "base_uri": "https://localhost:8080/"
        },
        "id": "S6P1i2erOgXq",
        "outputId": "a9b49e14-6654-467f-be37-1b7a07df5c69"
      },
      "source": [
        "# A텐서 (10, 5, 3)   B텐서 (3, 20) --> AB곱셈 결과 + 형태\r\n",
        "A = np.random.normal(size=(10, 5, 3))  # 랜덤숫자로 10x5x3 행렬을 만들어라\r\n",
        "B = np.random.normal(size=(3,20))      # 랜덤숫자로 3x20 행렬을 만들어라\r\n",
        "print(A.shape)\r\n",
        "print(B.shape)"
      ],
      "execution_count": 39,
      "outputs": [
        {
          "output_type": "stream",
          "text": [
            "(10, 5, 3)\n",
            "(3, 20)\n"
          ],
          "name": "stdout"
        }
      ]
    },
    {
      "cell_type": "code",
      "metadata": {
        "colab": {
          "base_uri": "https://localhost:8080/"
        },
        "id": "a9SwdKC9PAt6",
        "outputId": "9ebf24b7-8e4a-4885-ee0b-f1beb83dcaf3"
      },
      "source": [
        "C = np.matmul(A, B)\r\n",
        "#print(C)\r\n",
        "print(C.shape)"
      ],
      "execution_count": 40,
      "outputs": [
        {
          "output_type": "stream",
          "text": [
            "(10, 5, 20)\n"
          ],
          "name": "stdout"
        }
      ]
    },
    {
      "cell_type": "code",
      "metadata": {
        "colab": {
          "base_uri": "https://localhost:8080/"
        },
        "id": "Bd13vCAnPage",
        "outputId": "49473376-3ee6-4b70-ec02-1bd17dacb6ca"
      },
      "source": [
        "# 원소별 곱셈 --> 두 텐서의 형태가 동일할때 가능한 곱셈      <<<<<<<<<<<<<<<<    np.multiply()\r\n",
        "A = np.array([[1, 3, 5], [2, 4, 8]])    # 2x3 행렬 \r\n",
        "B = np.array([[-1, 0, 3], [5, 6, -2]])  # 2x3 행렬\r\n",
        "C = np.multiply(A, B)\r\n",
        "print('값',C)\r\n",
        "print('형태',C.shape)"
      ],
      "execution_count": 20,
      "outputs": [
        {
          "output_type": "stream",
          "text": [
            "값 [[ -1   0  15]\n",
            " [ 10  24 -16]]\n",
            "형태 (2, 3)\n"
          ],
          "name": "stdout"
        }
      ]
    },
    {
      "cell_type": "markdown",
      "metadata": {
        "id": "2Hb8SkIciHaJ"
      },
      "source": [
        "- 텐서 조작\n",
        "    1. 재배열\n",
        "    2. 텐서합치기"
      ]
    },
    {
      "cell_type": "code",
      "metadata": {
        "id": "LNxL9BiRiHaK",
        "colab": {
          "base_uri": "https://localhost:8080/"
        },
        "outputId": "0a5f59f1-48f2-4106-a990-2f66b2379ab4"
      },
      "source": [
        "# 재배열기능  numpy에선 reshape, torch에선 view\n",
        "a = np.array(30)\n",
        "print('형태', a.shape) # ()\n",
        "a_new = a.reshape(-1,1) # a형태를 -1,1로 변형 시킨것을 a_new로 저장\n",
        "print('형태', a_new.shape)\n",
        "\n",
        "vec1 = np.linspace(-1, 1, 100) # -1 ~ 1까지 100원소 균등하게 추출  --> 100차원의 벡터 (100,)\n",
        "print('형태', vec1.shape)\n",
        "mat1_vec1 = vec1.reshape(-1, 20) # (100,) --> (5,20)\n",
        "print('형태', mat1_vec1.shape)\n",
        "# 행렬 재배열 Transpose 행과열의 반전 기능\n",
        "a = np.random.normal(size=(3,5))\n",
        "b = a.T # b는 a의 행과열을 반전시킨 행렬, 5*3\n",
        "print('a형태', a.shape)\n",
        "print('반전된 형태 b', b.shape)\n"
      ],
      "execution_count": 25,
      "outputs": [
        {
          "output_type": "stream",
          "text": [
            "형태 ()\n",
            "형태 (1, 1)\n",
            "형태 (100,)\n",
            "형태 (5, 20)\n",
            "a형태 (3, 5)\n",
            "반전된 형태 b (5, 3)\n"
          ],
          "name": "stdout"
        }
      ]
    },
    {
      "cell_type": "code",
      "metadata": {
        "id": "ftjhLr0IiHaK",
        "colab": {
          "base_uri": "https://localhost:8080/"
        },
        "outputId": "a6b406ee-aa37-432b-fa1c-76b724a0696d"
      },
      "source": [
        "# 벡터간 연결하여 고차원 텐서 만들기\r\n",
        "vec1 = np.array([1,2,3])  # (3,)\r\n",
        "vec2 = np.array([2,4,5])  # (3,)\r\n",
        "vec3 = np.array([3,6,10]) # (3,)\r\n",
        "\r\n",
        "# 1번째 연결방법 3 + 3 + 3 >>> (9,)\r\n",
        "con1 = np.concatenate((vec1, vec2, vec3)) # (9,)\r\n",
        "print(\"9차원 벡터 값\",con1)\r\n",
        "print(\"9차원 벡터 결과\", con1.shape)\r\n",
        "# 2번째 연결방법 (3,1), (3,1), (3,1) >>> (3,3)\r\n",
        "con2 = np.concatenate((vec1.reshape(-1,1), vec2.reshape(-1,1), vec3.reshape(-1,1)), axis=1) # axis 더해줘야될 차원 지명 입력안해주면 디폴트로 0이 적용\r\n",
        "print(\"3x3차원 벡터 값\", con2)\r\n",
        "print(\"3x3차원 벡터 결과\", con2.shape)"
      ],
      "execution_count": 35,
      "outputs": [
        {
          "output_type": "stream",
          "text": [
            "[1 2 3]\n",
            "9차원 벡터 값 [ 1  2  3  2  4  5  3  6 10]\n",
            "9차원 벡터 결과 (9,)\n",
            "3x3차원 벡터 값 [[ 1  2  3]\n",
            " [ 2  4  6]\n",
            " [ 3  5 10]]\n",
            "3x3차원 벡터 결과 (3, 3)\n"
          ],
          "name": "stdout"
        }
      ]
    },
    {
      "cell_type": "markdown",
      "metadata": {
        "id": "qUEhv79_iHaK"
      },
      "source": [
        "- 미션 A텐서(10,5,3), B텐서(3,20) 행렬곱셈을 시행해보세요\r\n",
        "\r\n",
        "- 미션 위의 예제중 vec1, vec2, vec3에서 reshape를 제거하고 concatenate시켜보세요"
      ]
    },
    {
      "cell_type": "code",
      "metadata": {
        "colab": {
          "base_uri": "https://localhost:8080/"
        },
        "id": "Nrpgr1ZIi7oG",
        "outputId": "dd861092-2fe9-4e38-b310-d3dd571d0d12"
      },
      "source": [
        "# A텐서 (10, 5, 3)   B텐서 (3, 20) --> AB곱셈 결과 + 형태\r\n",
        "A = np.random.normal(size=(10, 5, 3))  # 랜덤숫자로 10x5x3 행렬을 만들어라\r\n",
        "B = np.random.normal(size=(3,20))      # 랜덤숫자로 3x20 행렬을 만들어라\r\n",
        "print(A.shape)\r\n",
        "print(B.shape)\r\n",
        "C = np.matmul(A, B)\r\n",
        "print(C.shape)"
      ],
      "execution_count": 41,
      "outputs": [
        {
          "output_type": "stream",
          "text": [
            "(10, 5, 3)\n",
            "(3, 20)\n",
            "(10, 5, 20)\n"
          ],
          "name": "stdout"
        }
      ]
    },
    {
      "cell_type": "code",
      "metadata": {
        "id": "Fu6z4hpyiHaK",
        "colab": {
          "base_uri": "https://localhost:8080/"
        },
        "outputId": "6de45961-a23d-4b60-9d2c-ecb747cdac6b"
      },
      "source": [
        "vec1 = np.array([1,2,3]).reshape(-1,1) \r\n",
        "vec2 = np.array([2,4,5]).reshape(-1,1) \r\n",
        "vec3 = np.array([3,6,10]).reshape(-1,1)\r\n",
        "\r\n",
        "con = np.concatenate((vec1, vec2, vec3), axis=1)\r\n",
        "print(con.shape)"
      ],
      "execution_count": 37,
      "outputs": [
        {
          "output_type": "stream",
          "text": [
            "(3, 3)\n"
          ],
          "name": "stdout"
        }
      ]
    },
    {
      "cell_type": "code",
      "metadata": {
        "id": "4wBzlTBIewwi"
      },
      "source": [
        ""
      ],
      "execution_count": null,
      "outputs": []
    }
  ]
}