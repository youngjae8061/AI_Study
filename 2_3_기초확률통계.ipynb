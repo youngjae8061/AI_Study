{
  "nbformat": 4,
  "nbformat_minor": 0,
  "metadata": {
    "kernelspec": {
      "display_name": "Python 3",
      "language": "python",
      "name": "python3"
    },
    "language_info": {
      "codemirror_mode": {
        "name": "ipython",
        "version": 3
      },
      "file_extension": ".py",
      "mimetype": "text/x-python",
      "name": "python",
      "nbconvert_exporter": "python",
      "pygments_lexer": "ipython3",
      "version": "3.8.3"
    },
    "colab": {
      "name": "2-3 기초확률통계.ipynb",
      "provenance": [],
      "collapsed_sections": [],
      "include_colab_link": true
    }
  },
  "cells": [
    {
      "cell_type": "markdown",
      "metadata": {
        "id": "view-in-github",
        "colab_type": "text"
      },
      "source": [
        "<a href=\"https://colab.research.google.com/github/youngjae8061/AI_Study/blob/main/2_3_%EA%B8%B0%EC%B4%88%ED%99%95%EB%A5%A0%ED%86%B5%EA%B3%84.ipynb\" target=\"_parent\"><img src=\"https://colab.research.google.com/assets/colab-badge.svg\" alt=\"Open In Colab\"/></a>"
      ]
    },
    {
      "cell_type": "markdown",
      "metadata": {
        "id": "R4DatVLtSLPq"
      },
      "source": [
        "## Basic probability and statistics\n",
        "\n",
        "- 기초 확률\n",
        "    - 사건, 랜덤변수 (대표적 주사위)\n",
        "    - 확률간의 거리"
      ]
    },
    {
      "cell_type": "code",
      "metadata": {
        "id": "HJQ5WVqlSLPw"
      },
      "source": [
        "import numpy as np"
      ],
      "execution_count": 2,
      "outputs": []
    },
    {
      "cell_type": "code",
      "metadata": {
        "id": "RPkUAMmWSLPx",
        "colab": {
          "base_uri": "https://localhost:8080/"
        },
        "outputId": "c9560e69-7a3d-48e8-bcf6-946658adb9dc"
      },
      "source": [
        "# 주사위 던지기 (1~6)\n",
        "dice1 = np.ones(6) # 사이즈가 6인 벡터의 원소를 모두 1로 만들어라\n",
        "print(dice1)\n",
        "dice1 /= np.sum(6) # 1/6으로 만들어라\n",
        "print(dice1)"
      ],
      "execution_count": 4,
      "outputs": [
        {
          "output_type": "stream",
          "text": [
            "[1. 1. 1. 1. 1. 1.]\n",
            "[0.16666667 0.16666667 0.16666667 0.16666667 0.16666667 0.16666667]\n"
          ],
          "name": "stdout"
        }
      ]
    },
    {
      "cell_type": "code",
      "metadata": {
        "id": "897SfImNSLPy"
      },
      "source": [
        "# 찌그러진 주사위\r\n",
        "dice2 = np.array([0.1, 0.2, 0.1, 0.05, 0.25, 0.3]) # 이 수를 전부 더했을때 1이 나와야함"
      ],
      "execution_count": 5,
      "outputs": []
    },
    {
      "cell_type": "markdown",
      "metadata": {
        "id": "fHtPDgEMSLPz"
      },
      "source": [
        "- 평범한 주사위와 찌그러진 주사위의 확률비교\n",
        "    - Kullback-Leibler divergence\n",
        "    \n",
        "$\\int{P(x)log{{P(x)}\\over{Q(x)}dx}}$"
      ]
    },
    {
      "cell_type": "code",
      "metadata": {
        "id": "5GM-mzgXSLPz"
      },
      "source": [
        "def kl_div(dist1,dist2):\n",
        "    return np.sum(dist1*np.log(dist1/dist2))"
      ],
      "execution_count": 6,
      "outputs": []
    },
    {
      "cell_type": "code",
      "metadata": {
        "id": "ATs_BDIeSLPz",
        "colab": {
          "base_uri": "https://localhost:8080/"
        },
        "outputId": "d16eb002-47bb-404a-f20b-da131939d994"
      },
      "source": [
        "print(kl_div(dice1, dice1)) # 0\r\n",
        "print(kl_div(dice2, dice2)) # 0\r\n",
        "\r\n",
        "print('\\n확률론적인 관점으로 본 두 주사위의 차이')\r\n",
        "print(kl_div(dice1, dice2))"
      ],
      "execution_count": 7,
      "outputs": [
        {
          "output_type": "stream",
          "text": [
            "0.0\n",
            "0.0\n",
            "확률론적인 관점으로 본 두 주사위의 차이\n",
            "0.17500845367561313\n"
          ],
          "name": "stdout"
        }
      ]
    },
    {
      "cell_type": "markdown",
      "metadata": {
        "id": "6kb_pXUeSLP0"
      },
      "source": [
        "- 통계"
      ]
    },
    {
      "cell_type": "code",
      "metadata": {
        "id": "DlfFVb2hSLP0",
        "colab": {
          "base_uri": "https://localhost:8080/"
        },
        "outputId": "a133b6f0-93ba-471b-f8c0-235a2b3eeb2c"
      },
      "source": [
        "# 기대값 --> 주사위를 던지면 뭐가 나올거냐? (1이 나올 확률 1/6, 2가 나올 확률 1/6...)\n",
        "exp=0\n",
        "# enumerate() - 해당 인덱스와 값을 출력해줌\n",
        "# idx - 인덱스, i - 확률\n",
        "for idx, i in enumerate(dice1):\n",
        "  exp += (idx+1) * i\n",
        "print('평번한 주사위 기대값', exp)\n",
        "\n",
        "\n",
        "exp=0\n",
        "# enumerate() - 해당 인덱스와 값을 출력해줌\n",
        "# idx - 인덱스, i - 확률\n",
        "for idx, i in enumerate(dice2):\n",
        "  exp += (idx+1) * i\n",
        "print('찌그러진 주사위 기대값', exp)"
      ],
      "execution_count": 9,
      "outputs": [
        {
          "output_type": "stream",
          "text": [
            "평번한 주사위 기대값 3.5\n",
            "찌그러진 주사위 기대값 4.05\n"
          ],
          "name": "stdout"
        }
      ]
    },
    {
      "cell_type": "code",
      "metadata": {
        "id": "drMwNYeLSLP0",
        "colab": {
          "base_uri": "https://localhost:8080/"
        },
        "outputId": "e3c5d5af-bc47-40df-c416-8fa8d80abb67"
      },
      "source": [
        "# 통계량 분석 -- 평균, 분산, 표준편차\n",
        "print('평균', np.mean(dice1),np.mean(dice2))\n",
        "print('분사', np.var(dice1), np.var(dice2))\n",
        "print('표준편차', np.std(dice1), np.std(dice2))"
      ],
      "execution_count": 10,
      "outputs": [
        {
          "output_type": "stream",
          "text": [
            "평균 0.16666666666666666 0.16666666666666666\n",
            "분사 0.0 0.008055555555555554\n",
            "표준편차 0.0 0.08975274678557506\n"
          ],
          "name": "stdout"
        }
      ]
    },
    {
      "cell_type": "code",
      "metadata": {
        "id": "MSv2Ft4JSLP1",
        "colab": {
          "base_uri": "https://localhost:8080/",
          "height": 283
        },
        "outputId": "d339fee2-9f1d-40e9-bb80-afef9441cae4"
      },
      "source": [
        "# 분포 그림 그려보기\n",
        "import matplotlib.pyplot as plt\n",
        "%matplotlib inline\n",
        "\n",
        "# 분포표 plt.hist\n",
        "plt.hist(dice1, label = 'Normal')\n",
        "plt.hist(dice2, label = 'Abnormal')\n",
        "plt.grid() # 격자\n",
        "plt.legend() # 레이블에 저장된 String을 호출"
      ],
      "execution_count": 11,
      "outputs": [
        {
          "output_type": "execute_result",
          "data": {
            "text/plain": [
              "<matplotlib.legend.Legend at 0x7f62f34d6710>"
            ]
          },
          "metadata": {
            "tags": []
          },
          "execution_count": 11
        },
        {
          "output_type": "display_data",
          "data": {
            "image/png": "[encoded data removed]",
            "text/plain": [
              "<Figure size 432x288 with 1 Axes>"
            ]
          },
          "metadata": {
            "tags": [],
            "needs_background": "light"
          }
        }
      ]
    },
    {
      "cell_type": "code",
      "metadata": {
        "id": "nMTkaRpYSLP1",
        "colab": {
          "base_uri": "https://localhost:8080/",
          "height": 265
        },
        "outputId": "01c96644-4e9b-4fe4-b513-7769dad1e056"
      },
      "source": [
        "# np.random.normal의 정체?\n",
        "x = np.random.normal(size=5000) # random.normal >> 정규 분포표를 따르는 원소들을 5000개 샘플링해라\n",
        "plt.hist(x, bins = 100) # bins = 100 >> 간격은 100개정도씩 묶어서\n",
        "plt.grid()"
      ],
      "execution_count": 12,
      "outputs": [
        {
          "output_type": "display_data",
          "data": {
            "image/png": "[encoded data removed]",
            "text/plain": [
              "<Figure size 432x288 with 1 Axes>"
            ]
          },
          "metadata": {
            "tags": [],
            "needs_background": "light"
          }
        }
      ]
    },
    {
      "cell_type": "code",
      "metadata": {
        "id": "ME6Rai0JSLP1"
      },
      "source": [
        ""
      ],
      "execution_count": null,
      "outputs": []
    }
  ]
}